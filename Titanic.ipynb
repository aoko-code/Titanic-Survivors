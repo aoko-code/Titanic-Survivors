{
 "cells": [
  {
   "cell_type": "markdown",
   "id": "3d598624",
   "metadata": {},
   "source": [
    "#Titanic -Machine learning from disaster\n",
    "Predict the people who could survive."
   ]
  },
  {
   "cell_type": "markdown",
   "id": "bf028795",
   "metadata": {},
   "source": [
    "###First import numpy, panda and os \n",
    "###read the train and test data from the local machine."
   ]
  },
  {
   "cell_type": "code",
   "execution_count": 22,
   "id": "3056637e",
   "metadata": {},
   "outputs": [],
   "source": [
    "import numpy as np\n",
    "import pandas as pd\n",
    "import os\n",
    "train_data= pd.read_csv(\"/Users/Aoko/Desktop/2024/Kaggle/input/train.csv\")\n",
    "test_data = pd.read_csv(\"/Users/Aoko/Desktop/2024/Kaggle/input/test.csv\")"
   ]
  },
  {
   "cell_type": "markdown",
   "id": "5878abbc",
   "metadata": {},
   "source": [
    "###Using the train data, predict the percentage of women and men who survived the tragic."
   ]
  },
  {
   "cell_type": "code",
   "execution_count": 24,
   "id": "c8ebf17f",
   "metadata": {},
   "outputs": [
    {
     "name": "stdout",
     "output_type": "stream",
     "text": [
      "Percentage of women who survived:  0.7420382165605095\n",
      "Percentage of men who survived:  0.18890814558058924\n"
     ]
    }
   ],
   "source": [
    "women = train_data.loc[train_data.Sex == 'female']['Survived']\n",
    "percentage_women = sum(women)/len(women)\n",
    "men = train_data.loc[train_data.Sex == 'male']['Survived']\n",
    "percentage_men = sum(men)/len(men)\n",
    "print(\"Percentage of women who survived: \", percentage_women)\n",
    "print(\"Percentage of men who survived: \", percentage_men)"
   ]
  },
  {
   "cell_type": "markdown",
   "id": "72542b69",
   "metadata": {},
   "source": [
    "Use RandomForestClassifier model to predict the survivors"
   ]
  },
  {
   "cell_type": "code",
   "execution_count": 25,
   "id": "49e80a12",
   "metadata": {},
   "outputs": [
    {
     "name": "stdout",
     "output_type": "stream",
     "text": [
      "Saved\n"
     ]
    }
   ],
   "source": [
    "from sklearn.ensemble import RandomForestClassifier\n",
    "y = train_data['Survived']\n",
    "features = [\"Pclass\", \"Sex\", \"SibSp\", \"Parch\"]\n",
    "X = pd.get_dummies(train_data[features])\n",
    "X_test = pd.get_dummies(test_data[features])\n",
    "\n",
    "model = RandomForestClassifier(n_estimators = 100, max_depth = 5, random_state = 1)\n",
    "model.fit(X, y)\n",
    "predictions = model.predict(X_test)\n",
    "\n",
    "output = pd.DataFrame({'PassengerId': test_data.PassengerId, 'Survived': predictions})\n",
    "output.to_csv('submission.csv', index=False)\n",
    "print('Saved')"
   ]
  }
 ],
 "metadata": {
  "kernelspec": {
   "display_name": "Python 3 (ipykernel)",
   "language": "python",
   "name": "python3"
  },
  "language_info": {
   "codemirror_mode": {
    "name": "ipython",
    "version": 3
   },
   "file_extension": ".py",
   "mimetype": "text/x-python",
   "name": "python",
   "nbconvert_exporter": "python",
   "pygments_lexer": "ipython3",
   "version": "3.9.7"
  }
 },
 "nbformat": 4,
 "nbformat_minor": 5
}
